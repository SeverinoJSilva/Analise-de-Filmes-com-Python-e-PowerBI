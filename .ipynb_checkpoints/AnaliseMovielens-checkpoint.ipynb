{
 "cells": [
  {
   "cell_type": "markdown",
   "id": "ae65d159-a3d3-4f55-a788-531d5347530b",
   "metadata": {},
   "source": [
    "# Dados do Movielens\n",
    "#### Acessado em:\n",
    "#### https://grouplens.org/datasets/movielens/1m/\n",
    "#### https://data.opendatasoft.com/explore/dataset/georef-united-states-of-america-zc-point%40public/export/"
   ]
  },
  {
   "cell_type": "code",
   "execution_count": 1,
   "id": "8e50b9ef-2be5-402d-801a-f2cf27df1513",
   "metadata": {},
   "outputs": [],
   "source": [
    "import pandas as pd\n",
    "import matplotlib.pyplot as plt\n",
    "import warnings\n",
    "import seaborn as sns\n",
    "sns.set_theme(style=\"darkgrid\")\n",
    "warnings.filterwarnings('ignore')"
   ]
  },
  {
   "cell_type": "markdown",
   "id": "ab4dd97f-13fe-4376-a6e8-d7dd373d9df8",
   "metadata": {
    "tags": []
   },
   "source": [
    "## Usuários"
   ]
  },
  {
   "cell_type": "code",
   "execution_count": 2,
   "id": "503e5e54-5707-4c3f-a126-f835d9251820",
   "metadata": {},
   "outputs": [
    {
     "data": {
      "text/html": [
       "<div>\n",
       "<style scoped>\n",
       "    .dataframe tbody tr th:only-of-type {\n",
       "        vertical-align: middle;\n",
       "    }\n",
       "\n",
       "    .dataframe tbody tr th {\n",
       "        vertical-align: top;\n",
       "    }\n",
       "\n",
       "    .dataframe thead th {\n",
       "        text-align: right;\n",
       "    }\n",
       "</style>\n",
       "<table border=\"1\" class=\"dataframe\">\n",
       "  <thead>\n",
       "    <tr style=\"text-align: right;\">\n",
       "      <th></th>\n",
       "      <th>1</th>\n",
       "      <th>F</th>\n",
       "      <th>1.1</th>\n",
       "      <th>10</th>\n",
       "      <th>48067</th>\n",
       "    </tr>\n",
       "  </thead>\n",
       "  <tbody>\n",
       "    <tr>\n",
       "      <th>0</th>\n",
       "      <td>2</td>\n",
       "      <td>M</td>\n",
       "      <td>56</td>\n",
       "      <td>16</td>\n",
       "      <td>70072</td>\n",
       "    </tr>\n",
       "    <tr>\n",
       "      <th>1</th>\n",
       "      <td>3</td>\n",
       "      <td>M</td>\n",
       "      <td>25</td>\n",
       "      <td>15</td>\n",
       "      <td>55117</td>\n",
       "    </tr>\n",
       "    <tr>\n",
       "      <th>2</th>\n",
       "      <td>4</td>\n",
       "      <td>M</td>\n",
       "      <td>45</td>\n",
       "      <td>7</td>\n",
       "      <td>02460</td>\n",
       "    </tr>\n",
       "  </tbody>\n",
       "</table>\n",
       "</div>"
      ],
      "text/plain": [
       "   1  F  1.1  10  48067\n",
       "0  2  M   56  16  70072\n",
       "1  3  M   25  15  55117\n",
       "2  4  M   45   7  02460"
      ]
     },
     "execution_count": 2,
     "metadata": {},
     "output_type": "execute_result"
    }
   ],
   "source": [
    "usuarios = pd.read_csv('users.dat', encoding='ISO-8859-1', sep='::')\n",
    "usuarios.head(3)"
   ]
  },
  {
   "cell_type": "code",
   "execution_count": 3,
   "id": "209625f2-3c1d-4c13-a1db-ccfecd38eb72",
   "metadata": {},
   "outputs": [
    {
     "data": {
      "text/html": [
       "<div>\n",
       "<style scoped>\n",
       "    .dataframe tbody tr th:only-of-type {\n",
       "        vertical-align: middle;\n",
       "    }\n",
       "\n",
       "    .dataframe tbody tr th {\n",
       "        vertical-align: top;\n",
       "    }\n",
       "\n",
       "    .dataframe thead th {\n",
       "        text-align: right;\n",
       "    }\n",
       "</style>\n",
       "<table border=\"1\" class=\"dataframe\">\n",
       "  <thead>\n",
       "    <tr style=\"text-align: right;\">\n",
       "      <th></th>\n",
       "      <th>UserID</th>\n",
       "      <th>Gender</th>\n",
       "      <th>Age</th>\n",
       "      <th>Occupation</th>\n",
       "      <th>Zip_code</th>\n",
       "    </tr>\n",
       "  </thead>\n",
       "  <tbody>\n",
       "    <tr>\n",
       "      <th>0</th>\n",
       "      <td>1</td>\n",
       "      <td>F</td>\n",
       "      <td>1.1</td>\n",
       "      <td>10</td>\n",
       "      <td>48067</td>\n",
       "    </tr>\n",
       "    <tr>\n",
       "      <th>1</th>\n",
       "      <td>2</td>\n",
       "      <td>M</td>\n",
       "      <td>56</td>\n",
       "      <td>16</td>\n",
       "      <td>70072</td>\n",
       "    </tr>\n",
       "    <tr>\n",
       "      <th>2</th>\n",
       "      <td>3</td>\n",
       "      <td>M</td>\n",
       "      <td>25</td>\n",
       "      <td>15</td>\n",
       "      <td>55117</td>\n",
       "    </tr>\n",
       "  </tbody>\n",
       "</table>\n",
       "</div>"
      ],
      "text/plain": [
       "  UserID Gender  Age Occupation Zip_code\n",
       "0      1      F  1.1         10    48067\n",
       "1      2      M   56         16    70072\n",
       "2      3      M   25         15    55117"
      ]
     },
     "execution_count": 3,
     "metadata": {},
     "output_type": "execute_result"
    }
   ],
   "source": [
    "# O arquivos user.dat veio com a primeira linha como nome das colunas\n",
    "# Para não perder os dados foi necessarios fazer o seguintes ajustes\n",
    "#lendo novamente os dados\n",
    "usuarios = pd.read_csv('users.dat', encoding='ISO-8859-1', sep='::')\n",
    "# trocando linha para coluna \n",
    "usuarios = usuarios.T\n",
    "# resetando o index para gerar uma nova linha\n",
    "usuarios = usuarios.reset_index()\n",
    "# desfazendo a alteração de linha para coluna\n",
    "usuarios = usuarios.T\n",
    "# renomeando as colunas\n",
    "usuarios.columns=['UserID','Gender','Age','Occupation','Zip_code']\n",
    "# transforma da coluna UserID em index\n",
    "usuarios = usuarios.set_index('UserID')\n",
    "# resetando o index\n",
    "usuarios = usuarios.reset_index()\n",
    "# exibindo os pprimeiros dados\n",
    "usuarios.head(3)"
   ]
  },
  {
   "cell_type": "code",
   "execution_count": 4,
   "id": "af050d42-a31f-484f-9224-6dced0d881ae",
   "metadata": {},
   "outputs": [],
   "source": [
    "# Consultando a documentação idenfiticamos o seguinte:\n",
    "# A coluna Age está condificada, assim estamos substituindo os códigos pela faixa etária\n",
    "    \n",
    "#     \"1\" :  \"-18\",\n",
    "#     \"18\":  \"18-24\",\n",
    "#     \"25\":  \"25-34\",\n",
    "#     \"35\":  \"35-44\",\n",
    "#     \"45\":  \"45-49\",\n",
    "#     \"50\":  \"50-55\",\n",
    "#     \"56\":  \"56+\"\n"
   ]
  },
  {
   "cell_type": "code",
   "execution_count": 5,
   "id": "1a6c9ffa-faed-4040-863f-35324c604661",
   "metadata": {},
   "outputs": [],
   "source": [
    "# Usando um loop for para criar uma nova coluna e deletando a coluna Age\n",
    "for item in usuarios.Age:\n",
    "    usuarios.loc[usuarios['Age']=='1.1','Age_group']= \"-18\"\n",
    "    usuarios.loc[usuarios['Age']==1,'Age_group']= \"-18\"\n",
    "    usuarios.loc[usuarios['Age']==18,'Age_group']= \"18-24\"\n",
    "    usuarios.loc[usuarios['Age']==25,'Age_group']= \"25-34\"\n",
    "    usuarios.loc[usuarios['Age']==35,'Age_group']= \"35-44\"\n",
    "    usuarios.loc[usuarios['Age']==45,'Age_group']= \"45-49\"\n",
    "    usuarios.loc[usuarios['Age']==50,'Age_group']= \"50-55\"\n",
    "    usuarios.loc[usuarios['Age']==56,'Age_group']= \"56+\"\n",
    "del usuarios['Age']"
   ]
  },
  {
   "cell_type": "code",
   "execution_count": 6,
   "id": "f48ca6fe-c621-468c-8883-1523cf4b2d35",
   "metadata": {},
   "outputs": [
    {
     "data": {
      "text/html": [
       "<div>\n",
       "<style scoped>\n",
       "    .dataframe tbody tr th:only-of-type {\n",
       "        vertical-align: middle;\n",
       "    }\n",
       "\n",
       "    .dataframe tbody tr th {\n",
       "        vertical-align: top;\n",
       "    }\n",
       "\n",
       "    .dataframe thead th {\n",
       "        text-align: right;\n",
       "    }\n",
       "</style>\n",
       "<table border=\"1\" class=\"dataframe\">\n",
       "  <thead>\n",
       "    <tr style=\"text-align: right;\">\n",
       "      <th></th>\n",
       "      <th>UserID</th>\n",
       "      <th>Gender</th>\n",
       "      <th>Occupation</th>\n",
       "      <th>Zip_code</th>\n",
       "      <th>Age_group</th>\n",
       "    </tr>\n",
       "  </thead>\n",
       "  <tbody>\n",
       "    <tr>\n",
       "      <th>0</th>\n",
       "      <td>1</td>\n",
       "      <td>F</td>\n",
       "      <td>10</td>\n",
       "      <td>48067</td>\n",
       "      <td>-18</td>\n",
       "    </tr>\n",
       "    <tr>\n",
       "      <th>1</th>\n",
       "      <td>2</td>\n",
       "      <td>M</td>\n",
       "      <td>16</td>\n",
       "      <td>70072</td>\n",
       "      <td>56+</td>\n",
       "    </tr>\n",
       "    <tr>\n",
       "      <th>2</th>\n",
       "      <td>3</td>\n",
       "      <td>M</td>\n",
       "      <td>15</td>\n",
       "      <td>55117</td>\n",
       "      <td>25-34</td>\n",
       "    </tr>\n",
       "  </tbody>\n",
       "</table>\n",
       "</div>"
      ],
      "text/plain": [
       "  UserID Gender Occupation Zip_code Age_group\n",
       "0      1      F         10    48067       -18\n",
       "1      2      M         16    70072       56+\n",
       "2      3      M         15    55117     25-34"
      ]
     },
     "execution_count": 6,
     "metadata": {},
     "output_type": "execute_result"
    }
   ],
   "source": [
    "# Visualizando o dataset usuasrios\n",
    "usuarios.head(3)"
   ]
  },
  {
   "cell_type": "code",
   "execution_count": 7,
   "id": "cc3ff607-f251-4369-a8a1-81288dab5bbd",
   "metadata": {},
   "outputs": [],
   "source": [
    "# Consultando a documentação idenfiticamos o seguinte:\n",
    "# A coluna Occupation está condificada, assim estamos substituindo os códigos pela profissões\n",
    "\n",
    "#      \"0\":  \"other\",\n",
    "#      \"1\":  \"academic/educator\",\n",
    "#      \"2\":  \"artist\",\n",
    "#      \"3\":  \"clerical/admin\",\n",
    "#      \"4\":  \"college/grad student\",\n",
    "#      \"5\":  \"customer service\",\n",
    "#      \"6\":  \"doctor/health care\",\n",
    "#      \"7\":  \"executive/managerial\",\n",
    "#      \"8\":  \"farmer\",\n",
    "#      \"9\":  \"homemaker\",\n",
    "#      \"10\":  \"K-12 student\",\n",
    "#      \"11\":  \"lawyer\",\n",
    "#      \"12\":  \"programmer\",\n",
    "#      \"13\":  \"retired\",\n",
    "#      \"14\":  \"sales/marketing\",\n",
    "#      \"15\":  \"scientist\",\n",
    "#      \"16\":  \"self-employed\",\n",
    "#      \"17\":  \"technician/engineer\",\n",
    "#      \"18\":  \"tradesman/craftsman\",\n",
    "#      \"19\":  \"unemployed\",\n",
    "#      \"20\":  \"writer\"}\n"
   ]
  },
  {
   "cell_type": "code",
   "execution_count": 8,
   "id": "8f87f0d9-c896-4c35-88b7-e4d768aaf927",
   "metadata": {},
   "outputs": [],
   "source": [
    "# Convertendo a coluna Occupation para inteiro para aplicar um loop for para evitar que alguma string\n",
    "# fique fora do loop devido a difença de digitação\n",
    "\n",
    "usuarios.Occupation = usuarios.Occupation.astype(int)"
   ]
  },
  {
   "cell_type": "code",
   "execution_count": 9,
   "id": "d93187fe-6c88-4c78-ad9c-bd7879727006",
   "metadata": {},
   "outputs": [],
   "source": [
    "# aplicando o loop for para substitui a codificação de Occupation pelo nome da profissão/Atividade\n",
    "for objeto in usuarios.Occupation:\n",
    "    usuarios.loc[usuarios['Occupation'] == 0,'Occupation_name'] = \"other\"\n",
    "    usuarios.loc[usuarios['Occupation'] == 1,'Occupation_name'] = \"academic/educator\"\n",
    "    usuarios.loc[usuarios['Occupation'] == 2,'Occupation_name'] = \"artist\"\n",
    "    usuarios.loc[usuarios['Occupation'] == 3,'Occupation_name'] = \"clerical/admin\"\n",
    "    usuarios.loc[usuarios['Occupation'] == 4,'Occupation_name'] = \"college/grad student\"\n",
    "    usuarios.loc[usuarios['Occupation'] == 5,'Occupation_name'] = \"customer service\"\n",
    "    usuarios.loc[usuarios['Occupation'] == 6,'Occupation_name'] = \"doctor/health care\"\n",
    "    usuarios.loc[usuarios['Occupation'] == 7,'Occupation_name'] = \"executive/managerial\"\n",
    "    usuarios.loc[usuarios['Occupation'] == 8,'Occupation_name'] = \"farmer\"\n",
    "    usuarios.loc[usuarios['Occupation'] == 9,'Occupation_name'] = \"homemaker\"\n",
    "    usuarios.loc[usuarios['Occupation'] == 10,'Occupation_name'] = \"K-12 student\"\n",
    "    usuarios.loc[usuarios['Occupation'] == 11,'Occupation_name'] = \"lawyer\"\n",
    "    usuarios.loc[usuarios['Occupation'] == 12,'Occupation_name'] = \"programmer\"\n",
    "    usuarios.loc[usuarios['Occupation'] == 13,'Occupation_name'] = \"retired\"\n",
    "    usuarios.loc[usuarios['Occupation'] == 14,'Occupation_name'] = \"sales/marketing\"\n",
    "    usuarios.loc[usuarios['Occupation'] == 15,'Occupation_name'] = \"scientist\"\n",
    "    usuarios.loc[usuarios['Occupation'] == 16,'Occupation_name'] = \"self-employed\"\n",
    "    usuarios.loc[usuarios['Occupation'] == 17,'Occupation_name'] = \"technician/engineer\"\n",
    "    usuarios.loc[usuarios['Occupation'] == 18,'Occupation_name'] = \"tradesman/craftsman\"\n",
    "    usuarios.loc[usuarios['Occupation'] == 19,'Occupation_name'] = \"unemployed\"\n",
    "    usuarios.loc[usuarios['Occupation'] == 20,'Occupation_name'] = \"writer\"\n",
    "\n",
    "del usuarios['Occupation']\n",
    "    \n",
    "    "
   ]
  },
  {
   "cell_type": "code",
   "execution_count": 10,
   "id": "c14adf6f-5fd2-4c33-b5af-f10a6e96bb3b",
   "metadata": {},
   "outputs": [
    {
     "data": {
      "text/html": [
       "<div>\n",
       "<style scoped>\n",
       "    .dataframe tbody tr th:only-of-type {\n",
       "        vertical-align: middle;\n",
       "    }\n",
       "\n",
       "    .dataframe tbody tr th {\n",
       "        vertical-align: top;\n",
       "    }\n",
       "\n",
       "    .dataframe thead th {\n",
       "        text-align: right;\n",
       "    }\n",
       "</style>\n",
       "<table border=\"1\" class=\"dataframe\">\n",
       "  <thead>\n",
       "    <tr style=\"text-align: right;\">\n",
       "      <th></th>\n",
       "      <th>UserID</th>\n",
       "      <th>Gender</th>\n",
       "      <th>Zip_code</th>\n",
       "      <th>Age_group</th>\n",
       "      <th>Occupation_name</th>\n",
       "    </tr>\n",
       "  </thead>\n",
       "  <tbody>\n",
       "    <tr>\n",
       "      <th>0</th>\n",
       "      <td>1</td>\n",
       "      <td>F</td>\n",
       "      <td>48067</td>\n",
       "      <td>-18</td>\n",
       "      <td>K-12 student</td>\n",
       "    </tr>\n",
       "    <tr>\n",
       "      <th>1</th>\n",
       "      <td>2</td>\n",
       "      <td>M</td>\n",
       "      <td>70072</td>\n",
       "      <td>56+</td>\n",
       "      <td>self-employed</td>\n",
       "    </tr>\n",
       "    <tr>\n",
       "      <th>2</th>\n",
       "      <td>3</td>\n",
       "      <td>M</td>\n",
       "      <td>55117</td>\n",
       "      <td>25-34</td>\n",
       "      <td>scientist</td>\n",
       "    </tr>\n",
       "  </tbody>\n",
       "</table>\n",
       "</div>"
      ],
      "text/plain": [
       "  UserID Gender Zip_code Age_group Occupation_name\n",
       "0      1      F    48067       -18    K-12 student\n",
       "1      2      M    70072       56+   self-employed\n",
       "2      3      M    55117     25-34       scientist"
      ]
     },
     "execution_count": 10,
     "metadata": {},
     "output_type": "execute_result"
    }
   ],
   "source": [
    "# visualiação resumida dos dados\n",
    "usuarios.head(3)"
   ]
  },
  {
   "cell_type": "code",
   "execution_count": 11,
   "id": "bdf097f7-d93f-40c0-b2a9-334d1f664bc2",
   "metadata": {},
   "outputs": [
    {
     "name": "stdout",
     "output_type": "stream",
     "text": [
      "total de arquivos: 79\n",
      "Lista de Arquivos: ['98107-2117', '37919-4204', '55337-4056', '55405-2546', '55103-1006', '5849574', '52570-9634', '01702-7224', '20744-6223', '20110-5616', '48103-8929', '53404-1230', '68144-2410', '345567', '93420-2852', '84112-2004', '2020010', '495321', '92612-3417', '23464-3016', '72227-5733', '92683-1892', '98043-3621', '11710-1641', '33067-1400', '02136-1522', '37923-3112', '27713-9225', '88005-4313', '95451-9554', '48103-4711', '64081-8102', '80004-4448', '50265-2850', '444555', '08854-3115', '27514-3540', '15701-1348', '91790-1161', '29404-2205', '400060', '62263-3004', '01904-1355', '70809-2612', '361069', '92711-0571', '94930-2010', '49503-1313', '48316-5601', '11510-2001', '62330-1408', '11414-2520', '111225', '15701-2017', '45322-3132', '0956456', '90014-1718', '96707-1321', '19087-3622', '970025', '63123-1507', '949702', '84109-2001', '193122042', '77565-2332', '62025-8000', '02725-1010', '11230-1710', '20003-2712', '20120-6354', '85287-2702', '191004', '12833-2000', '10461-1301', '23455-4959', '954025', '90035-4444', '73069-5429', '78705-5221']\n"
     ]
    }
   ],
   "source": [
    "# Conjunto de dados Zip_code aprensetam dados fora do padrão de 5 digitos o que difere do arquivo do site que obetvemos o conjundo de dados\n",
    "# de zip_code dos EUA\n",
    "# Identificamos ao tentar converter a coluna em interiro, assim:\n",
    "# Fizemos o loop abaixo para identificar a quantidade e os arquivos.\n",
    "\n",
    "lista = []\n",
    "for item in list(usuarios.Zip_code.unique()):\n",
    "    if len(item)>5:\n",
    "        lista.append(item)\n",
    "print(f'total de arquivos: {len(lista)}')        \n",
    "print(f'Lista de Arquivos: {lista}')"
   ]
  },
  {
   "cell_type": "code",
   "execution_count": 12,
   "id": "ad215248-b220-4cf8-8012-3b0cbaf0631d",
   "metadata": {},
   "outputs": [],
   "source": [
    "# Pare resolver o problema Criando um nova coluna com a correção desse problema usando expressoes regulares\n",
    "usuarios['Zip_Code'] = usuarios.Zip_code.str.extract(r'(\\d{5})', expand=True)\n",
    "del usuarios['Zip_code']"
   ]
  },
  {
   "cell_type": "code",
   "execution_count": 13,
   "id": "e5bae437-262e-4a12-9867-42b15c85d57e",
   "metadata": {},
   "outputs": [
    {
     "data": {
      "text/html": [
       "<div>\n",
       "<style scoped>\n",
       "    .dataframe tbody tr th:only-of-type {\n",
       "        vertical-align: middle;\n",
       "    }\n",
       "\n",
       "    .dataframe tbody tr th {\n",
       "        vertical-align: top;\n",
       "    }\n",
       "\n",
       "    .dataframe thead th {\n",
       "        text-align: right;\n",
       "    }\n",
       "</style>\n",
       "<table border=\"1\" class=\"dataframe\">\n",
       "  <thead>\n",
       "    <tr style=\"text-align: right;\">\n",
       "      <th></th>\n",
       "      <th>UserID</th>\n",
       "      <th>Gender</th>\n",
       "      <th>Age_group</th>\n",
       "      <th>Occupation_name</th>\n",
       "      <th>Zip_Code</th>\n",
       "    </tr>\n",
       "  </thead>\n",
       "  <tbody>\n",
       "    <tr>\n",
       "      <th>0</th>\n",
       "      <td>1</td>\n",
       "      <td>F</td>\n",
       "      <td>-18</td>\n",
       "      <td>K-12 student</td>\n",
       "      <td>48067</td>\n",
       "    </tr>\n",
       "    <tr>\n",
       "      <th>1</th>\n",
       "      <td>2</td>\n",
       "      <td>M</td>\n",
       "      <td>56+</td>\n",
       "      <td>self-employed</td>\n",
       "      <td>70072</td>\n",
       "    </tr>\n",
       "    <tr>\n",
       "      <th>2</th>\n",
       "      <td>3</td>\n",
       "      <td>M</td>\n",
       "      <td>25-34</td>\n",
       "      <td>scientist</td>\n",
       "      <td>55117</td>\n",
       "    </tr>\n",
       "    <tr>\n",
       "      <th>3</th>\n",
       "      <td>4</td>\n",
       "      <td>M</td>\n",
       "      <td>45-49</td>\n",
       "      <td>executive/managerial</td>\n",
       "      <td>2460</td>\n",
       "    </tr>\n",
       "    <tr>\n",
       "      <th>4</th>\n",
       "      <td>5</td>\n",
       "      <td>M</td>\n",
       "      <td>25-34</td>\n",
       "      <td>writer</td>\n",
       "      <td>55455</td>\n",
       "    </tr>\n",
       "  </tbody>\n",
       "</table>\n",
       "</div>"
      ],
      "text/plain": [
       "  UserID Gender Age_group       Occupation_name  Zip_Code\n",
       "0      1      F       -18          K-12 student     48067\n",
       "1      2      M       56+         self-employed     70072\n",
       "2      3      M     25-34             scientist     55117\n",
       "3      4      M     45-49  executive/managerial      2460\n",
       "4      5      M     25-34                writer     55455"
      ]
     },
     "execution_count": 13,
     "metadata": {},
     "output_type": "execute_result"
    }
   ],
   "source": [
    "#Transformando as colunas zip_code em inteiro, precisaremos disso para unificar as tabelas mais adiante\n",
    "usuarios['Zip_Code'] = usuarios['Zip_Code'].astype(int)\n",
    "usuarios.head()"
   ]
  },
  {
   "cell_type": "markdown",
   "id": "6d42a066-2e78-4a2e-bba0-2ad5c3c52bdf",
   "metadata": {},
   "source": [
    "### Importando novo conjunto de dados para associar ao usuarios para identificar a cidade"
   ]
  },
  {
   "cell_type": "code",
   "execution_count": 14,
   "id": "7f086369-3d66-4c6a-a8d9-7aa0385b990b",
   "metadata": {},
   "outputs": [
    {
     "data": {
      "text/html": [
       "<div>\n",
       "<style scoped>\n",
       "    .dataframe tbody tr th:only-of-type {\n",
       "        vertical-align: middle;\n",
       "    }\n",
       "\n",
       "    .dataframe tbody tr th {\n",
       "        vertical-align: top;\n",
       "    }\n",
       "\n",
       "    .dataframe thead th {\n",
       "        text-align: right;\n",
       "    }\n",
       "</style>\n",
       "<table border=\"1\" class=\"dataframe\">\n",
       "  <thead>\n",
       "    <tr style=\"text-align: right;\">\n",
       "      <th></th>\n",
       "      <th>Zip Code</th>\n",
       "      <th>Official USPS city name</th>\n",
       "      <th>Official USPS State Code</th>\n",
       "      <th>Official State Name</th>\n",
       "      <th>ZCTA</th>\n",
       "      <th>ZCTA parent</th>\n",
       "      <th>Population</th>\n",
       "      <th>Density</th>\n",
       "      <th>Primary Official County Code</th>\n",
       "      <th>Primary Official County Name</th>\n",
       "      <th>County Weights</th>\n",
       "      <th>Official County Name</th>\n",
       "      <th>Official County Code</th>\n",
       "      <th>Imprecise</th>\n",
       "      <th>Military</th>\n",
       "      <th>Timezone</th>\n",
       "      <th>Geo Point</th>\n",
       "    </tr>\n",
       "  </thead>\n",
       "  <tbody>\n",
       "    <tr>\n",
       "      <th>0</th>\n",
       "      <td>31018</td>\n",
       "      <td>Davisboro</td>\n",
       "      <td>GA</td>\n",
       "      <td>Georgia</td>\n",
       "      <td>True</td>\n",
       "      <td>NaN</td>\n",
       "      <td>2673.0</td>\n",
       "      <td>11.3</td>\n",
       "      <td>13303</td>\n",
       "      <td>Washington</td>\n",
       "      <td>{\"13303\": \"100\"}</td>\n",
       "      <td>Washington</td>\n",
       "      <td>13303</td>\n",
       "      <td>False</td>\n",
       "      <td>False</td>\n",
       "      <td>America/New_York</td>\n",
       "      <td>32.97651,-82.62065</td>\n",
       "    </tr>\n",
       "    <tr>\n",
       "      <th>1</th>\n",
       "      <td>31072</td>\n",
       "      <td>Pitts</td>\n",
       "      <td>GA</td>\n",
       "      <td>Georgia</td>\n",
       "      <td>True</td>\n",
       "      <td>NaN</td>\n",
       "      <td>1278.0</td>\n",
       "      <td>6.5</td>\n",
       "      <td>13315</td>\n",
       "      <td>Wilcox</td>\n",
       "      <td>{\"13315\": \"94.57\", \"13081\": \"5.43\"}</td>\n",
       "      <td>Wilcox|Crisp</td>\n",
       "      <td>13315|13081</td>\n",
       "      <td>False</td>\n",
       "      <td>False</td>\n",
       "      <td>America/New_York</td>\n",
       "      <td>31.96604,-83.56352</td>\n",
       "    </tr>\n",
       "    <tr>\n",
       "      <th>2</th>\n",
       "      <td>31213</td>\n",
       "      <td>Macon</td>\n",
       "      <td>GA</td>\n",
       "      <td>Georgia</td>\n",
       "      <td>True</td>\n",
       "      <td>NaN</td>\n",
       "      <td>0.0</td>\n",
       "      <td>0.0</td>\n",
       "      <td>13021</td>\n",
       "      <td>Bibb</td>\n",
       "      <td>{\"13021\": \"0\"}</td>\n",
       "      <td>Bibb</td>\n",
       "      <td>13021</td>\n",
       "      <td>False</td>\n",
       "      <td>False</td>\n",
       "      <td>America/New_York</td>\n",
       "      <td>32.84005,-83.63937</td>\n",
       "    </tr>\n",
       "  </tbody>\n",
       "</table>\n",
       "</div>"
      ],
      "text/plain": [
       "   Zip Code Official USPS city name Official USPS State Code  \\\n",
       "0     31018               Davisboro                       GA   \n",
       "1     31072                   Pitts                       GA   \n",
       "2     31213                   Macon                       GA   \n",
       "\n",
       "  Official State Name  ZCTA  ZCTA parent  Population  Density  \\\n",
       "0             Georgia  True          NaN      2673.0     11.3   \n",
       "1             Georgia  True          NaN      1278.0      6.5   \n",
       "2             Georgia  True          NaN         0.0      0.0   \n",
       "\n",
       "   Primary Official County Code Primary Official County Name  \\\n",
       "0                         13303                   Washington   \n",
       "1                         13315                       Wilcox   \n",
       "2                         13021                         Bibb   \n",
       "\n",
       "                        County Weights Official County Name  \\\n",
       "0                     {\"13303\": \"100\"}           Washington   \n",
       "1  {\"13315\": \"94.57\", \"13081\": \"5.43\"}         Wilcox|Crisp   \n",
       "2                       {\"13021\": \"0\"}                 Bibb   \n",
       "\n",
       "  Official County Code  Imprecise  Military          Timezone  \\\n",
       "0                13303      False     False  America/New_York   \n",
       "1          13315|13081      False     False  America/New_York   \n",
       "2                13021      False     False  America/New_York   \n",
       "\n",
       "            Geo Point  \n",
       "0  32.97651,-82.62065  \n",
       "1  31.96604,-83.56352  \n",
       "2  32.84005,-83.63937  "
      ]
     },
     "execution_count": 14,
     "metadata": {},
     "output_type": "execute_result"
    }
   ],
   "source": [
    "# Após fazer o download do site https://data.opendatasoft.com/, lemos o arquivo e inicarmos o tratamento dos dados\n",
    "cep_eua = pd.read_csv('georef-united-states-of-america-zc-point.csv', sep=';')\n",
    "# Convertendo a coluna para inteiro\n",
    "cep_eua['Zip Code'] = cep_eua['Zip Code'].astype(int)\n",
    "# visualizando um resumo\n",
    "cep_eua.head(3)"
   ]
  },
  {
   "cell_type": "code",
   "execution_count": 15,
   "id": "76f4a1e8-8afa-4ece-8cdc-b21e0a7db478",
   "metadata": {},
   "outputs": [
    {
     "data": {
      "text/plain": [
       "Index(['Zip Code', 'Official USPS city name', 'Official USPS State Code',\n",
       "       'Official State Name', 'ZCTA', 'ZCTA parent', 'Population', 'Density',\n",
       "       'Primary Official County Code', 'Primary Official County Name',\n",
       "       'County Weights', 'Official County Name', 'Official County Code',\n",
       "       'Imprecise', 'Military', 'Timezone', 'Geo Point'],\n",
       "      dtype='object')"
      ]
     },
     "execution_count": 15,
     "metadata": {},
     "output_type": "execute_result"
    }
   ],
   "source": [
    "# pegando o nome das colunas para renomear\n",
    "cep_eua.columns"
   ]
  },
  {
   "cell_type": "code",
   "execution_count": 16,
   "id": "69b4a342-9ab9-458b-a0f3-5d65d59f7805",
   "metadata": {},
   "outputs": [],
   "source": [
    "# renomeando as colunas, principamente a coluna Zip_Code que deve ter esse formato par podemor usar o função merge() a seeguir\n",
    "cep_eua.columns=['Zip_Code', 'city_name', 'State_Code',\n",
    "       'State_Name', 'ZCTA', 'ZCTA parent', 'Population', 'Density',\n",
    "       'Primary_County_Code', 'Primary_County_Name',\n",
    "       'County_Weights', 'County_Name', 'County_Code',\n",
    "       'Imprecise', 'Military', 'Timezone', 'Geo_Point']"
   ]
  },
  {
   "cell_type": "code",
   "execution_count": 17,
   "id": "1ab0c526-d80b-4e4c-b12d-6b4abc0db752",
   "metadata": {},
   "outputs": [
    {
     "name": "stdout",
     "output_type": "stream",
     "text": [
      "<class 'pandas.core.frame.DataFrame'>\n",
      "Int64Index: 6040 entries, 0 to 6039\n",
      "Data columns (total 21 columns):\n",
      " #   Column               Non-Null Count  Dtype  \n",
      "---  ------               --------------  -----  \n",
      " 0   UserID               6040 non-null   object \n",
      " 1   Gender               6040 non-null   object \n",
      " 2   Age_group            6040 non-null   object \n",
      " 3   Occupation_name      6040 non-null   object \n",
      " 4   Zip_Code             6040 non-null   int32  \n",
      " 5   city_name            5875 non-null   object \n",
      " 6   State_Code           5875 non-null   object \n",
      " 7   State_Name           5875 non-null   object \n",
      " 8   ZCTA                 5875 non-null   object \n",
      " 9   ZCTA parent          0 non-null      float64\n",
      " 10  Population           5875 non-null   float64\n",
      " 11  Density              5875 non-null   float64\n",
      " 12  Primary_County_Code  5875 non-null   float64\n",
      " 13  Primary_County_Name  5875 non-null   object \n",
      " 14  County_Weights       5875 non-null   object \n",
      " 15  County_Name          5875 non-null   object \n",
      " 16  County_Code          5875 non-null   object \n",
      " 17  Imprecise            5875 non-null   object \n",
      " 18  Military             5875 non-null   object \n",
      " 19  Timezone             5875 non-null   object \n",
      " 20  Geo_Point            5875 non-null   object \n",
      "dtypes: float64(4), int32(1), object(16)\n",
      "memory usage: 1014.5+ KB\n"
     ]
    }
   ],
   "source": [
    "# Juntando duas tabelas para anexar as cidades e Estados dos Zip_code do movielens\n",
    "usuarios = pd.merge(usuarios, cep_eua, how = 'left', on = 'Zip_Code')\n",
    "usuarios.info()"
   ]
  },
  {
   "cell_type": "code",
   "execution_count": 18,
   "id": "56031b6d-9044-4191-bb88-f63480ee8639",
   "metadata": {},
   "outputs": [],
   "source": [
    "# deletando uma coluna vazia\n",
    "del usuarios['ZCTA parent']"
   ]
  },
  {
   "cell_type": "code",
   "execution_count": 19,
   "id": "d9441512-a70e-4853-af2d-dad15fb94db9",
   "metadata": {},
   "outputs": [
    {
     "name": "stdout",
     "output_type": "stream",
     "text": [
      "Total de Zip_Codes Ausentes no site: 151\n",
      "Lista de Zip_Codes Ausentes: [32793, 96931, 6520, 64043, 21203, 98153, 89432, 98765, 22122, 37815, 21559, 97339, 90214, 12345, 14650, 90078, 99945, 28223, 37930, 92018, 92153, 34567, 96803, 34556, 45904, 95617, 13907, 20200, 1234, 12230, 85275, 61665, 53707, 93448, 89170, 92100, 6430, 49532, 77341, 6459, 55555, 94120, 94214, 73147, 96153, 22112, 85721, 2254, 92846, 95158, 93107, 64920, 23186, 681, 87502, 27515, 86701, 71731, 72316, 27708, 48107, 94410, 19360, 2430, 31311, 75005, 96811, 98100, 20795, 36102, 14260, 78766, 73070, 2454, 87103, 80687, 88076, 89507, 12133, 77252, 34170, 65211, 33720, 81679, 49355, 8461, 9142, 95031, 89193, 96671, 85214, 78267, 28542, 41706, 92965, 61600, 231, 96158, 85287, 96661, 6680, 55100, 44242, 60664, 14982, 20122, 92728, 73702, 92711, 95929, 89185, 91221, 83405, 9094, 89114, 11122, 22906, 9564, 94309, 19481, 56002, 3769, 44555, 4309, 95952, 19108, 96555, 81291, 27245, 10625, 43650, 1125, 30010, 8544, 91125, 44325, 19100, 5273, 9056, 29425, 98622, 78765, 2146, 3756, 9824, 55459, 1597, 91428, 96930, 95402, 98227]\n"
     ]
    }
   ],
   "source": [
    "# Após a concatenação 151 registro não econtraram correspondencia e foram descartados\n",
    "cep_ausentes = []\n",
    "cep_usuarios = list(usuarios.Zip_Code.unique())\n",
    "cep_site_eua = list(cep_eua.Zip_Code.unique())\n",
    "for item in cep_usuarios:\n",
    "    if item not in cep_site_eua:\n",
    "        cep_ausentes.append(item)\n",
    "print(f'Total de Zip_Codes Ausentes no site: {len(cep_ausentes)}')\n",
    "print(f'Lista de Zip_Codes Ausentes: {list(cep_ausentes)}')"
   ]
  },
  {
   "cell_type": "code",
   "execution_count": 20,
   "id": "a28c661e-c42f-40ed-9fd4-46898eac45a3",
   "metadata": {},
   "outputs": [
    {
     "name": "stdout",
     "output_type": "stream",
     "text": [
      "<class 'pandas.core.frame.DataFrame'>\n",
      "Int64Index: 6040 entries, 0 to 6039\n",
      "Data columns (total 20 columns):\n",
      " #   Column               Non-Null Count  Dtype  \n",
      "---  ------               --------------  -----  \n",
      " 0   UserID               6040 non-null   object \n",
      " 1   Gender               6040 non-null   object \n",
      " 2   Age_group            6040 non-null   object \n",
      " 3   Occupation_name      6040 non-null   object \n",
      " 4   Zip_Code             6040 non-null   int32  \n",
      " 5   city_name            5875 non-null   object \n",
      " 6   State_Code           5875 non-null   object \n",
      " 7   State_Name           5875 non-null   object \n",
      " 8   ZCTA                 5875 non-null   object \n",
      " 9   Population           5875 non-null   float64\n",
      " 10  Density              5875 non-null   float64\n",
      " 11  Primary_County_Code  5875 non-null   float64\n",
      " 12  Primary_County_Name  5875 non-null   object \n",
      " 13  County_Weights       5875 non-null   object \n",
      " 14  County_Name          5875 non-null   object \n",
      " 15  County_Code          5875 non-null   object \n",
      " 16  Imprecise            5875 non-null   object \n",
      " 17  Military             5875 non-null   object \n",
      " 18  Timezone             5875 non-null   object \n",
      " 19  Geo_Point            5875 non-null   object \n",
      "dtypes: float64(3), int32(1), object(16)\n",
      "memory usage: 967.3+ KB\n"
     ]
    }
   ],
   "source": [
    "# Resumo do conjunto usuarios pronto\n",
    "usuarios.info()"
   ]
  },
  {
   "cell_type": "code",
   "execution_count": 21,
   "id": "f6634be9-14b4-4291-bb2d-e1633fee477a",
   "metadata": {},
   "outputs": [
    {
     "data": {
      "text/html": [
       "<div>\n",
       "<style scoped>\n",
       "    .dataframe tbody tr th:only-of-type {\n",
       "        vertical-align: middle;\n",
       "    }\n",
       "\n",
       "    .dataframe tbody tr th {\n",
       "        vertical-align: top;\n",
       "    }\n",
       "\n",
       "    .dataframe thead th {\n",
       "        text-align: right;\n",
       "    }\n",
       "</style>\n",
       "<table border=\"1\" class=\"dataframe\">\n",
       "  <thead>\n",
       "    <tr style=\"text-align: right;\">\n",
       "      <th></th>\n",
       "      <th>UserID</th>\n",
       "      <th>Gender</th>\n",
       "      <th>Age_group</th>\n",
       "      <th>Occupation_name</th>\n",
       "      <th>Zip_Code</th>\n",
       "      <th>city_name</th>\n",
       "      <th>State_Code</th>\n",
       "      <th>State_Name</th>\n",
       "      <th>ZCTA</th>\n",
       "      <th>Population</th>\n",
       "      <th>Density</th>\n",
       "      <th>Primary_County_Code</th>\n",
       "      <th>Primary_County_Name</th>\n",
       "      <th>County_Weights</th>\n",
       "      <th>County_Name</th>\n",
       "      <th>County_Code</th>\n",
       "      <th>Imprecise</th>\n",
       "      <th>Military</th>\n",
       "      <th>Timezone</th>\n",
       "      <th>Geo_Point</th>\n",
       "    </tr>\n",
       "  </thead>\n",
       "  <tbody>\n",
       "    <tr>\n",
       "      <th>0</th>\n",
       "      <td>1</td>\n",
       "      <td>F</td>\n",
       "      <td>-18</td>\n",
       "      <td>K-12 student</td>\n",
       "      <td>48067</td>\n",
       "      <td>Royal Oak</td>\n",
       "      <td>MI</td>\n",
       "      <td>Michigan</td>\n",
       "      <td>True</td>\n",
       "      <td>24556.0</td>\n",
       "      <td>2065.5</td>\n",
       "      <td>26125.0</td>\n",
       "      <td>Oakland</td>\n",
       "      <td>{\"26125\": \"100\"}</td>\n",
       "      <td>Oakland</td>\n",
       "      <td>26125</td>\n",
       "      <td>False</td>\n",
       "      <td>False</td>\n",
       "      <td>America/Detroit</td>\n",
       "      <td>42.49046,-83.13795</td>\n",
       "    </tr>\n",
       "    <tr>\n",
       "      <th>1</th>\n",
       "      <td>2</td>\n",
       "      <td>M</td>\n",
       "      <td>56+</td>\n",
       "      <td>self-employed</td>\n",
       "      <td>70072</td>\n",
       "      <td>Marrero</td>\n",
       "      <td>LA</td>\n",
       "      <td>Louisiana</td>\n",
       "      <td>True</td>\n",
       "      <td>55877.0</td>\n",
       "      <td>1040.0</td>\n",
       "      <td>22051.0</td>\n",
       "      <td>Jefferson</td>\n",
       "      <td>{\"22051\": \"100\"}</td>\n",
       "      <td>Jefferson</td>\n",
       "      <td>22051</td>\n",
       "      <td>False</td>\n",
       "      <td>False</td>\n",
       "      <td>America/Chicago</td>\n",
       "      <td>29.83601,-90.11042</td>\n",
       "    </tr>\n",
       "    <tr>\n",
       "      <th>2</th>\n",
       "      <td>3</td>\n",
       "      <td>M</td>\n",
       "      <td>25-34</td>\n",
       "      <td>scientist</td>\n",
       "      <td>55117</td>\n",
       "      <td>Saint Paul</td>\n",
       "      <td>MN</td>\n",
       "      <td>Minnesota</td>\n",
       "      <td>True</td>\n",
       "      <td>45653.0</td>\n",
       "      <td>1904.5</td>\n",
       "      <td>27123.0</td>\n",
       "      <td>Ramsey</td>\n",
       "      <td>{\"27123\": \"100\"}</td>\n",
       "      <td>Ramsey</td>\n",
       "      <td>27123</td>\n",
       "      <td>False</td>\n",
       "      <td>False</td>\n",
       "      <td>America/Chicago</td>\n",
       "      <td>44.99936,-93.09687</td>\n",
       "    </tr>\n",
       "    <tr>\n",
       "      <th>3</th>\n",
       "      <td>4</td>\n",
       "      <td>M</td>\n",
       "      <td>45-49</td>\n",
       "      <td>executive/managerial</td>\n",
       "      <td>2460</td>\n",
       "      <td>Newtonville</td>\n",
       "      <td>MA</td>\n",
       "      <td>Massachusetts</td>\n",
       "      <td>True</td>\n",
       "      <td>9773.0</td>\n",
       "      <td>2807.7</td>\n",
       "      <td>25017.0</td>\n",
       "      <td>Middlesex</td>\n",
       "      <td>{\"25017\": \"100\"}</td>\n",
       "      <td>Middlesex</td>\n",
       "      <td>25017</td>\n",
       "      <td>False</td>\n",
       "      <td>False</td>\n",
       "      <td>America/New_York</td>\n",
       "      <td>42.35196,-71.2083</td>\n",
       "    </tr>\n",
       "    <tr>\n",
       "      <th>4</th>\n",
       "      <td>5</td>\n",
       "      <td>M</td>\n",
       "      <td>25-34</td>\n",
       "      <td>writer</td>\n",
       "      <td>55455</td>\n",
       "      <td>Minneapolis</td>\n",
       "      <td>MN</td>\n",
       "      <td>Minnesota</td>\n",
       "      <td>True</td>\n",
       "      <td>1118.0</td>\n",
       "      <td>1588.1</td>\n",
       "      <td>27053.0</td>\n",
       "      <td>Hennepin</td>\n",
       "      <td>{\"27053\": \"100\"}</td>\n",
       "      <td>Hennepin</td>\n",
       "      <td>27053</td>\n",
       "      <td>False</td>\n",
       "      <td>False</td>\n",
       "      <td>America/Chicago</td>\n",
       "      <td>44.97358,-93.23316</td>\n",
       "    </tr>\n",
       "  </tbody>\n",
       "</table>\n",
       "</div>"
      ],
      "text/plain": [
       "  UserID Gender Age_group       Occupation_name  Zip_Code    city_name  \\\n",
       "0      1      F       -18          K-12 student     48067    Royal Oak   \n",
       "1      2      M       56+         self-employed     70072      Marrero   \n",
       "2      3      M     25-34             scientist     55117   Saint Paul   \n",
       "3      4      M     45-49  executive/managerial      2460  Newtonville   \n",
       "4      5      M     25-34                writer     55455  Minneapolis   \n",
       "\n",
       "  State_Code     State_Name  ZCTA  Population  Density  Primary_County_Code  \\\n",
       "0         MI       Michigan  True     24556.0   2065.5              26125.0   \n",
       "1         LA      Louisiana  True     55877.0   1040.0              22051.0   \n",
       "2         MN      Minnesota  True     45653.0   1904.5              27123.0   \n",
       "3         MA  Massachusetts  True      9773.0   2807.7              25017.0   \n",
       "4         MN      Minnesota  True      1118.0   1588.1              27053.0   \n",
       "\n",
       "  Primary_County_Name    County_Weights County_Name County_Code Imprecise  \\\n",
       "0             Oakland  {\"26125\": \"100\"}     Oakland       26125     False   \n",
       "1           Jefferson  {\"22051\": \"100\"}   Jefferson       22051     False   \n",
       "2              Ramsey  {\"27123\": \"100\"}      Ramsey       27123     False   \n",
       "3           Middlesex  {\"25017\": \"100\"}   Middlesex       25017     False   \n",
       "4            Hennepin  {\"27053\": \"100\"}    Hennepin       27053     False   \n",
       "\n",
       "  Military          Timezone           Geo_Point  \n",
       "0    False   America/Detroit  42.49046,-83.13795  \n",
       "1    False   America/Chicago  29.83601,-90.11042  \n",
       "2    False   America/Chicago  44.99936,-93.09687  \n",
       "3    False  America/New_York   42.35196,-71.2083  \n",
       "4    False   America/Chicago  44.97358,-93.23316  "
      ]
     },
     "execution_count": 21,
     "metadata": {},
     "output_type": "execute_result"
    }
   ],
   "source": [
    "# Salvando o arquivos em formato CSV e visualizando o arquivo\n",
    "usuarios.to_csv('Usuarios.csv', index=False)\n",
    "usuarios.head()"
   ]
  },
  {
   "cell_type": "code",
   "execution_count": 22,
   "id": "3102133e-3d8d-4bb9-98f8-5bd0c80423a7",
   "metadata": {},
   "outputs": [
    {
     "data": {
      "image/png": "[encoded data removed]",
      "text/plain": [
       "<Figure size 640x480 with 1 Axes>"
      ]
     },
     "metadata": {},
     "output_type": "display_data"
    }
   ],
   "source": [
    "plt.title('Occupation_name', fontsize=12, pad=15)\n",
    "sns.barplot(y = usuarios['Occupation_name'].value_counts().index, x = usuarios['Occupation_name'].value_counts().values)\n",
    "plt.show()"
   ]
  },
  {
   "cell_type": "code",
   "execution_count": 23,
   "id": "4bde2485-b96f-4dd6-bae9-09b09399497b",
   "metadata": {},
   "outputs": [
    {
     "data": {
      "image/png": "[encoded data removed]",
      "text/plain": [
       "<Figure size 640x480 with 1 Axes>"
      ]
     },
     "metadata": {},
     "output_type": "display_data"
    }
   ],
   "source": [
    "plt.title('Timezone', fontsize=12, pad=15)\n",
    "sns.barplot(y = usuarios['Timezone'].value_counts().index, x = usuarios['Timezone'].value_counts().values)\n",
    "plt.show()"
   ]
  },
  {
   "cell_type": "code",
   "execution_count": 24,
   "id": "3c2f20e4-391c-446f-80b6-6bb55e2c68b1",
   "metadata": {},
   "outputs": [
    {
     "data": {
      "image/png": "[encoded data removed]",
      "text/plain": [
       "<Figure size 300x300 with 1 Axes>"
      ]
     },
     "metadata": {},
     "output_type": "display_data"
    }
   ],
   "source": [
    "plt.figure(figsize=(3,3))\n",
    "plt.title('Gender', fontsize=12, pad=15)\n",
    "sns.barplot(x = usuarios['Gender'].value_counts().index, y = usuarios['Gender'].value_counts().values)\n",
    "plt.show()"
   ]
  },
  {
   "cell_type": "code",
   "execution_count": 25,
   "id": "0bbcd0b4-da16-4ae1-9386-f05772fe452d",
   "metadata": {},
   "outputs": [
    {
     "data": {
      "image/png": "[encoded data removed]",
      "text/plain": [
       "<Figure size 600x300 with 1 Axes>"
      ]
     },
     "metadata": {},
     "output_type": "display_data"
    }
   ],
   "source": [
    "plt.figure(figsize=(6,3))\n",
    "plt.title('Age_group', fontsize=12, pad=15)\n",
    "sns.barplot(x = usuarios['Age_group'].value_counts().index, y = usuarios['Age_group'].value_counts().values)\n",
    "plt.show()"
   ]
  },
  {
   "cell_type": "markdown",
   "id": "664f5b40-8492-4d5f-bee8-cd30de181625",
   "metadata": {},
   "source": [
    "## Movies"
   ]
  },
  {
   "cell_type": "code",
   "execution_count": 26,
   "id": "953684d3-0591-4f2e-8bb3-300a9d170e46",
   "metadata": {},
   "outputs": [
    {
     "data": {
      "text/html": [
       "<div>\n",
       "<style scoped>\n",
       "    .dataframe tbody tr th:only-of-type {\n",
       "        vertical-align: middle;\n",
       "    }\n",
       "\n",
       "    .dataframe tbody tr th {\n",
       "        vertical-align: top;\n",
       "    }\n",
       "\n",
       "    .dataframe thead th {\n",
       "        text-align: right;\n",
       "    }\n",
       "</style>\n",
       "<table border=\"1\" class=\"dataframe\">\n",
       "  <thead>\n",
       "    <tr style=\"text-align: right;\">\n",
       "      <th></th>\n",
       "      <th>1</th>\n",
       "      <th>Toy Story (1995)</th>\n",
       "      <th>Animation|Children's|Comedy</th>\n",
       "    </tr>\n",
       "  </thead>\n",
       "  <tbody>\n",
       "    <tr>\n",
       "      <th>0</th>\n",
       "      <td>2</td>\n",
       "      <td>Jumanji (1995)</td>\n",
       "      <td>Adventure|Children's|Fantasy</td>\n",
       "    </tr>\n",
       "    <tr>\n",
       "      <th>1</th>\n",
       "      <td>3</td>\n",
       "      <td>Grumpier Old Men (1995)</td>\n",
       "      <td>Comedy|Romance</td>\n",
       "    </tr>\n",
       "    <tr>\n",
       "      <th>2</th>\n",
       "      <td>4</td>\n",
       "      <td>Waiting to Exhale (1995)</td>\n",
       "      <td>Comedy|Drama</td>\n",
       "    </tr>\n",
       "  </tbody>\n",
       "</table>\n",
       "</div>"
      ],
      "text/plain": [
       "   1          Toy Story (1995)   Animation|Children's|Comedy\n",
       "0  2            Jumanji (1995)  Adventure|Children's|Fantasy\n",
       "1  3   Grumpier Old Men (1995)                Comedy|Romance\n",
       "2  4  Waiting to Exhale (1995)                  Comedy|Drama"
      ]
     },
     "execution_count": 26,
     "metadata": {},
     "output_type": "execute_result"
    }
   ],
   "source": [
    "# Abrindo arquivos dos filmes e fazendo ajustes\n",
    "filmes = pd.read_csv('movies.dat', encoding='ISO-8859-1', sep='::')\n",
    "filmes.head(3)"
   ]
  },
  {
   "cell_type": "code",
   "execution_count": 27,
   "id": "5821cc12-cfd0-4970-8aa1-e3b981632375",
   "metadata": {},
   "outputs": [
    {
     "data": {
      "text/html": [
       "<div>\n",
       "<style scoped>\n",
       "    .dataframe tbody tr th:only-of-type {\n",
       "        vertical-align: middle;\n",
       "    }\n",
       "\n",
       "    .dataframe tbody tr th {\n",
       "        vertical-align: top;\n",
       "    }\n",
       "\n",
       "    .dataframe thead th {\n",
       "        text-align: right;\n",
       "    }\n",
       "</style>\n",
       "<table border=\"1\" class=\"dataframe\">\n",
       "  <thead>\n",
       "    <tr style=\"text-align: right;\">\n",
       "      <th></th>\n",
       "      <th>MovieID</th>\n",
       "      <th>Title</th>\n",
       "      <th>Year</th>\n",
       "      <th>Genre</th>\n",
       "    </tr>\n",
       "  </thead>\n",
       "  <tbody>\n",
       "    <tr>\n",
       "      <th>0</th>\n",
       "      <td>1</td>\n",
       "      <td>Toy Story (1995)</td>\n",
       "      <td>1995</td>\n",
       "      <td>Animation</td>\n",
       "    </tr>\n",
       "    <tr>\n",
       "      <th>1</th>\n",
       "      <td>2</td>\n",
       "      <td>Jumanji (1995)</td>\n",
       "      <td>1995</td>\n",
       "      <td>Adventure</td>\n",
       "    </tr>\n",
       "    <tr>\n",
       "      <th>2</th>\n",
       "      <td>3</td>\n",
       "      <td>Grumpier Old Men (1995)</td>\n",
       "      <td>1995</td>\n",
       "      <td>Comedy</td>\n",
       "    </tr>\n",
       "  </tbody>\n",
       "</table>\n",
       "</div>"
      ],
      "text/plain": [
       "  MovieID                    Title  Year      Genre\n",
       "0       1         Toy Story (1995)  1995  Animation\n",
       "1       2           Jumanji (1995)  1995  Adventure\n",
       "2       3  Grumpier Old Men (1995)  1995     Comedy"
      ]
     },
     "execution_count": 27,
     "metadata": {},
     "output_type": "execute_result"
    }
   ],
   "source": [
    "# Abrindo arquivos dos filmes e fazendo ajustes pois apresenta o mesmo problema de usuarios\n",
    "# fazendo a leitura do arquivo\n",
    "filmes = pd.read_csv('movies.dat', encoding='ISO-8859-1', sep='::')\n",
    "# Transformando a coluna em linha e linha em coluna\n",
    "filmes = filmes.T\n",
    "# Resetando o index para criar uma nova coluna\n",
    "filmes = filmes.reset_index()\n",
    "#desfazendo a linha para coluna\n",
    "filmes = filmes.T\n",
    "# Renomeando as colunas\n",
    "filmes.columns=['MovieID','Title','Genres']\n",
    "# transformando o MovieID em index\n",
    "filmes = filmes.set_index('MovieID')\n",
    "#Criando uma coluna extraindo o ano do title utliizando expressoes regulares\n",
    "filmes['Year'] = filmes.Title.str.extract(r'[?:\\(](\\d{4})[?:\\)]', expand=True)\n",
    "# convertendo a coluna para inteiro\n",
    "filmes['Year'] = filmes.Year.astype(int)\n",
    "# extraindo a primeira informa de Genero do filme como principal utilizando expressoes regulares\n",
    "filmes['Genre'] = filmes.Genres.str.extract(r\"(\\w*['-/]?\\w*)\", expand=True)\n",
    "# Deletando a coluna Genres\n",
    "del filmes['Genres']\n",
    "# visualizando um resumo do arquivo após as modificações\n",
    "# Resetando o index \n",
    "filmes = filmes.reset_index()\n",
    "filmes.head(3)"
   ]
  },
  {
   "cell_type": "code",
   "execution_count": 28,
   "id": "70bc69e2-0474-4297-b785-56498fb414ea",
   "metadata": {},
   "outputs": [
    {
     "data": {
      "text/plain": [
       "array(['Animation', 'Adventure', 'Comedy', 'Action', 'Drama', 'Thriller',\n",
       "       'Crime', 'Romance', \"Children's\", 'Documentary', 'Sci-Fi',\n",
       "       'Horror', 'Western', 'Mystery', 'Film-Noir', 'War', 'Fantasy',\n",
       "       'Musical'], dtype=object)"
      ]
     },
     "execution_count": 28,
     "metadata": {},
     "output_type": "execute_result"
    }
   ],
   "source": [
    "filmes.Genre.unique()"
   ]
  },
  {
   "cell_type": "code",
   "execution_count": 29,
   "id": "e8ab87de-fc0d-4434-9d24-bf944cb0d72c",
   "metadata": {},
   "outputs": [
    {
     "data": {
      "image/png": "[encoded data removed]",
      "text/plain": [
       "<Figure size 640x480 with 1 Axes>"
      ]
     },
     "metadata": {},
     "output_type": "display_data"
    }
   ],
   "source": [
    "plt.title('Genre', fontsize=12, pad=15)\n",
    "sns.barplot(y = filmes['Genre'].value_counts().index, x = filmes['Genre'].value_counts().values)\n",
    "plt.show()"
   ]
  },
  {
   "cell_type": "code",
   "execution_count": 30,
   "id": "bcf6eecf-5fa9-40d2-983a-51427833e5ec",
   "metadata": {},
   "outputs": [
    {
     "data": {
      "image/png": "[encoded data removed]",
      "text/plain": [
       "<Figure size 600x300 with 1 Axes>"
      ]
     },
     "metadata": {},
     "output_type": "display_data"
    }
   ],
   "source": [
    "# Fazendo a visualização de um histograma de Ano\n",
    "plt.figure(figsize=(6,3))\n",
    "sns.histplot(x=filmes.Year)\n",
    "plt.show()"
   ]
  },
  {
   "cell_type": "code",
   "execution_count": 31,
   "id": "2de5b6e7-a1aa-4367-a671-bf43bb95212b",
   "metadata": {},
   "outputs": [
    {
     "data": {
      "image/png": "[encoded data removed]",
      "text/plain": [
       "<Figure size 600x300 with 1 Axes>"
      ]
     },
     "metadata": {},
     "output_type": "display_data"
    }
   ],
   "source": [
    "# Fazendo a visualização de um histograma de Genre\n",
    "plt.figure(figsize=(6,3))\n",
    "sns.histplot(x=filmes.Genre)\n",
    "plt.xticks(rotation=80)\n",
    "plt.show()"
   ]
  },
  {
   "cell_type": "code",
   "execution_count": 32,
   "id": "53a9f5de-c89a-4b73-b55c-7843a5ec4bb1",
   "metadata": {},
   "outputs": [],
   "source": [
    "#Salvando o arquivo em formato CSV\n",
    "filmes.to_csv('Filmes.csv', index=False)"
   ]
  },
  {
   "cell_type": "markdown",
   "id": "fae106c5-174e-4f2c-b825-a56bfa7b8f11",
   "metadata": {},
   "source": [
    "## Avaliação"
   ]
  },
  {
   "cell_type": "code",
   "execution_count": 33,
   "id": "030a415d-e264-43da-9366-99c316cca691",
   "metadata": {},
   "outputs": [
    {
     "data": {
      "text/html": [
       "<div>\n",
       "<style scoped>\n",
       "    .dataframe tbody tr th:only-of-type {\n",
       "        vertical-align: middle;\n",
       "    }\n",
       "\n",
       "    .dataframe tbody tr th {\n",
       "        vertical-align: top;\n",
       "    }\n",
       "\n",
       "    .dataframe thead th {\n",
       "        text-align: right;\n",
       "    }\n",
       "</style>\n",
       "<table border=\"1\" class=\"dataframe\">\n",
       "  <thead>\n",
       "    <tr style=\"text-align: right;\">\n",
       "      <th></th>\n",
       "      <th>1</th>\n",
       "      <th>1193</th>\n",
       "      <th>5</th>\n",
       "      <th>978300760</th>\n",
       "    </tr>\n",
       "  </thead>\n",
       "  <tbody>\n",
       "    <tr>\n",
       "      <th>0</th>\n",
       "      <td>1</td>\n",
       "      <td>661</td>\n",
       "      <td>3</td>\n",
       "      <td>978302109</td>\n",
       "    </tr>\n",
       "    <tr>\n",
       "      <th>1</th>\n",
       "      <td>1</td>\n",
       "      <td>914</td>\n",
       "      <td>3</td>\n",
       "      <td>978301968</td>\n",
       "    </tr>\n",
       "    <tr>\n",
       "      <th>2</th>\n",
       "      <td>1</td>\n",
       "      <td>3408</td>\n",
       "      <td>4</td>\n",
       "      <td>978300275</td>\n",
       "    </tr>\n",
       "  </tbody>\n",
       "</table>\n",
       "</div>"
      ],
      "text/plain": [
       "   1  1193  5  978300760\n",
       "0  1   661  3  978302109\n",
       "1  1   914  3  978301968\n",
       "2  1  3408  4  978300275"
      ]
     },
     "execution_count": 33,
     "metadata": {},
     "output_type": "execute_result"
    }
   ],
   "source": [
    "# Fazendo um visualização previa dos dados\n",
    "avaliacao = pd.read_csv('ratings.dat', encoding='ISO-8859-1', sep='::')\n",
    "avaliacao.head(3)"
   ]
  },
  {
   "cell_type": "code",
   "execution_count": 34,
   "id": "9f58e20f-249e-4ad7-9d47-86d3a28bf806",
   "metadata": {},
   "outputs": [
    {
     "data": {
      "text/html": [
       "<div>\n",
       "<style scoped>\n",
       "    .dataframe tbody tr th:only-of-type {\n",
       "        vertical-align: middle;\n",
       "    }\n",
       "\n",
       "    .dataframe tbody tr th {\n",
       "        vertical-align: top;\n",
       "    }\n",
       "\n",
       "    .dataframe thead th {\n",
       "        text-align: right;\n",
       "    }\n",
       "</style>\n",
       "<table border=\"1\" class=\"dataframe\">\n",
       "  <thead>\n",
       "    <tr style=\"text-align: right;\">\n",
       "      <th></th>\n",
       "      <th>UserID</th>\n",
       "      <th>MovieID</th>\n",
       "      <th>Rating</th>\n",
       "      <th>Timestamp</th>\n",
       "    </tr>\n",
       "  </thead>\n",
       "  <tbody>\n",
       "    <tr>\n",
       "      <th>0</th>\n",
       "      <td>1</td>\n",
       "      <td>1193</td>\n",
       "      <td>5</td>\n",
       "      <td>978300760</td>\n",
       "    </tr>\n",
       "    <tr>\n",
       "      <th>1</th>\n",
       "      <td>1</td>\n",
       "      <td>661</td>\n",
       "      <td>3</td>\n",
       "      <td>978302109</td>\n",
       "    </tr>\n",
       "    <tr>\n",
       "      <th>2</th>\n",
       "      <td>1</td>\n",
       "      <td>914</td>\n",
       "      <td>3</td>\n",
       "      <td>978301968</td>\n",
       "    </tr>\n",
       "  </tbody>\n",
       "</table>\n",
       "</div>"
      ],
      "text/plain": [
       "  UserID  MovieID  Rating  Timestamp\n",
       "0      1     1193       5  978300760\n",
       "1      1      661       3  978302109\n",
       "2      1      914       3  978301968"
      ]
     },
     "execution_count": 34,
     "metadata": {},
     "output_type": "execute_result"
    }
   ],
   "source": [
    "# Observamos que mais uma vez os arquivos vem com a primeira linha como nome da coluna\n",
    "# lendo o arquivo\n",
    "avaliacao = pd.read_csv('ratings.dat', encoding='ISO-8859-1', sep='::')\n",
    "# Transformando a coluna em linha e linha em coluna\n",
    "avaliacao = avaliacao.T\n",
    "# Resetando o index para criar uma nova coluna\n",
    "avaliacao = avaliacao.reset_index()\n",
    "# desfazendo a mundaça de linha para coluna\n",
    "avaliacao = avaliacao.T\n",
    "# renomeando as colunas\n",
    "avaliacao.columns=['UserID','MovieID','Rating','Timestamp']\n",
    "# transfornamando a coluna UserID em index\n",
    "avaliacao = avaliacao.set_index('UserID')\n",
    "# Converetendo todo o conjunto de dados em inteiro uma vez que ele é todo numérico\n",
    "avaliacao = avaliacao.astype(int)\n",
    "# Resetando o index \n",
    "avaliacao = avaliacao.reset_index()\n",
    "# Visualizando um resumo dos dados\n",
    "avaliacao.head(3)"
   ]
  },
  {
   "cell_type": "code",
   "execution_count": 35,
   "id": "2f6f072b-b4f2-4461-9bc5-4f62787a27d8",
   "metadata": {},
   "outputs": [
    {
     "name": "stdout",
     "output_type": "stream",
     "text": [
      "<class 'pandas.core.frame.DataFrame'>\n",
      "RangeIndex: 1000209 entries, 0 to 1000208\n",
      "Data columns (total 4 columns):\n",
      " #   Column     Non-Null Count    Dtype \n",
      "---  ------     --------------    ----- \n",
      " 0   UserID     1000209 non-null  object\n",
      " 1   MovieID    1000209 non-null  int32 \n",
      " 2   Rating     1000209 non-null  int32 \n",
      " 3   Timestamp  1000209 non-null  int32 \n",
      "dtypes: int32(3), object(1)\n",
      "memory usage: 19.1+ MB\n"
     ]
    }
   ],
   "source": [
    "avaliacao.info()"
   ]
  },
  {
   "cell_type": "code",
   "execution_count": 36,
   "id": "f7efda38-78f5-41b4-86b2-b884ae721794",
   "metadata": {},
   "outputs": [
    {
     "data": {
      "image/png": "[encoded data removed]",
      "text/plain": [
       "<Figure size 640x480 with 1 Axes>"
      ]
     },
     "metadata": {},
     "output_type": "display_data"
    }
   ],
   "source": [
    "# Visualizando os dados de avalização em um grafico boxplot\n",
    "sns.boxplot(x=avaliacao.Rating)\n",
    "plt.show()"
   ]
  },
  {
   "cell_type": "code",
   "execution_count": 37,
   "id": "da23f636-663f-4219-af25-4ee9e4dc2432",
   "metadata": {},
   "outputs": [],
   "source": [
    "# Salvando o arquivo em formato CSV\n",
    "avaliacao.to_csv('Avaliacao.csv',index=True)"
   ]
  },
  {
   "cell_type": "markdown",
   "id": "aee74bd0-7bf4-4787-a963-dc6f7c3dcaf1",
   "metadata": {},
   "source": [
    "### Finalizando essas etapas copiamos esses três arquivos criados para a pasta do PowerBI\n",
    "### Podemos iniciar a criação do dashboard"
   ]
  },
  {
   "cell_type": "code",
   "execution_count": null,
   "id": "d4bad7df-3196-45d2-a007-2106b257aef0",
   "metadata": {},
   "outputs": [],
   "source": []
  }
 ],
 "metadata": {
  "kernelspec": {
   "display_name": "Python 3 (ipykernel)",
   "language": "python",
   "name": "python3"
  },
  "language_info": {
   "codemirror_mode": {
    "name": "ipython",
    "version": 3
   },
   "file_extension": ".py",
   "mimetype": "text/x-python",
   "name": "python",
   "nbconvert_exporter": "python",
   "pygments_lexer": "ipython3",
   "version": "3.9.13"
  }
 },
 "nbformat": 4,
 "nbformat_minor": 5
}
